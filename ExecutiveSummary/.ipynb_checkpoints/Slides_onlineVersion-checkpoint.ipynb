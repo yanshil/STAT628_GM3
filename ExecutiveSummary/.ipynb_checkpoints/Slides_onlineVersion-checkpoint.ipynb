{
 "cells": [
  {
   "cell_type": "markdown",
   "metadata": {
    "slideshow": {
     "slide_type": "slide"
    }
   },
   "source": [
    "# Body Fat - Rule of Thumb\n",
    "#### Group Member: Yanshi Luo, Lan Wang, Peijin Li"
   ]
  },
  {
   "cell_type": "markdown",
   "metadata": {
    "slideshow": {
     "slide_type": "slide"
    }
   },
   "source": [
    "## Introduction\n",
    "\n",
    "Many research indicates that the percentage of body fat is related to human health.\n",
    "\n",
    "In this report, we will limit our measurements to commonly available measurements such as age, weight, and height to provide a clear,accurate and easy to use \"Rule of Thumb\" to estimate body fat for daily use."
   ]
  },
  {
   "cell_type": "markdown",
   "metadata": {
    "slideshow": {
     "slide_type": "slide"
    }
   },
   "source": [
    "## Overall Finding - Rule of Thumb!\n",
    "\n",
    "$$BODYFAT = -23.99+0.88*ABDOMEN-0.087*WEIGHT-1.28*WRIST$$ \n",
    "\n",
    "| variable |ABDOMEN |WRIST| WEIGHT |\n",
    "|----------|--------|-----|--------|\n",
    "|scale     |   cm   |  cm |   lbs  | \n",
    "\n",
    "#### **90% of your circumsference of waist, minus 10% of weight, minus 130% of your circumsference of wrist, and minus 24.**\n",
    "\n",
    "*This rule of thumb is close to our estimated model by constructing 95% confidence intervals.*\n",
    "\n"
   ]
  },
  {
   "cell_type": "markdown",
   "metadata": {
    "slideshow": {
     "slide_type": "slide"
    }
   },
   "source": [
    "## Data Background\n",
    "\n",
    "The data set contains 17 measurements from 252 observations. Except for the first three column seperately is `IDNO`(id number), `BODYFAT`(The first-class outcome), and `DENSITY`(The second-class outcome), the rest 13 measurements are commonly available measurements of human body, which will be used as possible predictors in the model."
   ]
  },
  {
   "cell_type": "markdown",
   "metadata": {
    "slideshow": {
     "slide_type": "slide"
    }
   },
   "source": [
    "## Data Cleaning\n",
    "\n",
    "#### Outcome Analysis\n",
    "\n",
    "* `BODYFAT`: first-class\n",
    "* `DENSITY`: second-class\n",
    "\n",
    "*If `bodyfat` is not valid, try to use `density` instead.*"
   ]
  },
  {
   "cell_type": "markdown",
   "metadata": {
    "slideshow": {
     "slide_type": "subslide"
    }
   },
   "source": []
  },
  {
   "cell_type": "code",
   "execution_count": 35,
   "metadata": {
    "slideshow": {
     "slide_type": "subslide"
    }
   },
   "outputs": [
    {
     "data": {
      "text/plain": [
       "   Min. 1st Qu.  Median    Mean 3rd Qu.    Max. \n",
       "   0.00   12.80   19.00   18.94   24.60   45.10 "
      ]
     },
     "metadata": {},
     "output_type": "display_data"
    }
   ],
   "source": [
    "BodyFat <- read.csv(\"../data/BodyFat.csv\");\n",
    "summary(BodyFat$BODYFAT)"
   ]
  },
  {
   "cell_type": "markdown",
   "metadata": {
    "slideshow": {
     "slide_type": "subslide"
    }
   },
   "source": [
    "By analysising the `BODYFAT` variable, we can see that #182 and #216 observations have extreme values of body fat, seperately 0 and 45.1.\n",
    "\n",
    "We consider that these two value is not valid and try to transform the second-class y `DENSITY` to `BODYFAT`  with Siri's equation <cite data-cite=\"siri1956gross\">(Siri, 1956)</cite>  $B= 495/D - 450$ and get -3.61 and 47.49 seperately, which are still not in a normal range of body fat. Thus we **delete** these two observations from the data set.\n",
    "\n",
    "<!--bibtex\n",
    "\n",
    "@article{siri1956gross,\n",
    "  title={The gross composition of the body},\n",
    "  author={Siri, William E and others},\n",
    "  journal={Adv Biol Med Phys},\n",
    "  volume={4},\n",
    "  number={239-279},\n",
    "  pages={513}\n",
    "}\n",
    "-->"
   ]
  },
  {
   "cell_type": "markdown",
   "metadata": {
    "slideshow": {
     "slide_type": "subslide"
    }
   },
   "source": [
    "#### Outliers & Influential Points\n",
    "\n",
    "By analysing the Cook's distance of the linear model build from `lm(BODYFAT ~ .)`(all possible $X$ dispite of `ID` and `DENSITY`), we look into details of the outlier candidates with ID 42, 39 and 86."
   ]
  },
  {
   "cell_type": "code",
   "execution_count": 36,
   "metadata": {
    "slideshow": {
     "slide_type": "subslide"
    }
   },
   "outputs": [
    {
     "data": {
      "image/png": "[encoded data removed]",
      "text/plain": [
       "Plot with title “”"
      ]
     },
     "metadata": {},
     "output_type": "display_data"
    }
   ],
   "source": [
    "fit <- lm(BODYFAT ~ .-IDNO-DENSITY, data=BodyFat)\n",
    "BMI <-  BodyFat$WEIGHT * 0.453592 / (BodyFat$HEIGHT*2.54*0.01)^2\n",
    "options(repr.plot.width=8, repr.plot.height=3.5); par(mfrow=c(1,2));\n",
    "plot(fit, which=4) ## Cook's distance\n",
    "plot(BMI); abline(v = 42, lty = 2); text(42,150,labels = \"42\",cex = 0.8)"
   ]
  },
  {
   "cell_type": "markdown",
   "metadata": {
    "slideshow": {
     "slide_type": "subslide"
    }
   },
   "source": [
    "Observation #42 is weighted 205 lb and 29.5 in tall. Body Mass Index (BMI) is commonly used to classify underweight, overweight and obesity in adults. \n",
    "\n",
    "Usually a person with BMI $>=$ 40 is considered to be extreme obese [(WHO \n",
    "BMI classification)](http://apps.who.int/bmi/index.jsp?introPage=intro_3.html). When we calculate the BMI, we can see that this observation is very abnormal with BMI = 165.62, so we consider this observation as an invalid record and delete it from the model."
   ]
  },
  {
   "cell_type": "markdown",
   "metadata": {
    "slideshow": {
     "slide_type": "slide"
    }
   },
   "source": [
    "We also do some explaratory analysis for the extreme values of the variables."
   ]
  },
  {
   "cell_type": "markdown",
   "metadata": {
    "slideshow": {
     "slide_type": "subslide"
    }
   },
   "source": [
    "![](http://data.yansr.me/data/4.histgram_of_all_variable.jpeg)"
   ]
  },
  {
   "cell_type": "markdown",
   "metadata": {
    "slideshow": {
     "slide_type": "subslide"
    }
   },
   "source": [
    "<iframe width=\"900\" height=\"600\" frameborder=\"0\" scrolling=\"no\" src=\"//plot.ly/~Loca/9.embed\"></iframe>"
   ]
  },
  {
   "cell_type": "markdown",
   "metadata": {
    "slideshow": {
     "slide_type": "subslide"
    }
   },
   "source": [
    "<iframe width=\"900\" height=\"600\" frameborder=\"0\" scrolling=\"no\" src=\"//plot.ly/~Loca/11.embed\"></iframe>"
   ]
  },
  {
   "cell_type": "markdown",
   "metadata": {
    "slideshow": {
     "slide_type": "subslide"
    }
   },
   "source": [
    "<iframe width=\"900\" height=\"600\" frameborder=\"0\" scrolling=\"no\" src=\"//plot.ly/~Loca/13.embed\"></iframe>"
   ]
  },
  {
   "cell_type": "markdown",
   "metadata": {
    "slideshow": {
     "slide_type": "subslide"
    }
   },
   "source": [
    "### Example: #39\n",
    "\n",
    "Obs. 39 is a very fat guy with most of his record as the maximum one in the data and by the Scale-Location plots below, we can see that #39 has an extreme residuals. Thus we consider to delete it from the dataset to obtain a robust result.  "
   ]
  },
  {
   "cell_type": "code",
   "execution_count": null,
   "metadata": {
    "slideshow": {
     "slide_type": "subslide"
    }
   },
   "outputs": [],
   "source": [
    "d1 <- BodyFat[-c(182,42),] ## Delete abnormal point\n",
    "d2 <- BodyFat[-c(182,42,39),] ## Delete Influential Point\n",
    "\n",
    "fit1 <- lm(BODYFAT~.-IDNO-DENSITY,data = d1); fit2 <- lm(BODYFAT~.-IDNO-DENSITY,data = d2)\n",
    "\n",
    "options(repr.plot.width=8, repr.plot.height=3.5); par(mfrow=c(1,2))\n",
    "plot(fit1, which=3); title(main = \"Delete ID 182,42\") ### LEFT\n",
    "plot(fit2, which=3); title(main = \"Delete ID 182,42,39\") ### RIGHT"
   ]
  },
  {
   "cell_type": "markdown",
   "metadata": {
    "slideshow": {
     "slide_type": "slide"
    }
   },
   "source": [
    "### KEEP or DELETE?\n",
    "\n",
    "For other observations with extreme values, we also do some explaratory analysis. \n",
    "\n",
    "The `Keep OR Delete` result is listed as follows.\n",
    "\n",
    "| ID  | Why Abnormal                                         | Action |\n",
    "|-----|------------------------------------------------------|--------|\n",
    "| 182 | BodyFat = 0 (failed to be recalculated from Density) | Delete |\n",
    "| 42  | BMI = 165 (Very Extreme BMI)                         | Delete |\n",
    "| 39  | Weight = 363.15 (Extreme Fat)                        | Delete |\n",
    "| 79  | Age = 81 (Extreme Old)                               | Keep   |"
   ]
  },
  {
   "cell_type": "markdown",
   "metadata": {
    "slideshow": {
     "slide_type": "slide"
    }
   },
   "source": [
    "## Statistical Model"
   ]
  },
  {
   "cell_type": "code",
   "execution_count": null,
   "metadata": {
    "slideshow": {
     "slide_type": "skip"
    }
   },
   "outputs": [],
   "source": [
    "dat = read.csv(\"../data/BodyFat.csv\")\n",
    "datset = dat[-c(39,42,182),-c(1,3)]     # Remove IDNO and DENSITY\n",
    "rg_full = lm(BODYFAT~.,data = datset)\n",
    "\n",
    "base<-lm(BODYFAT~1,data=datset)\n",
    "model.AIC<-step(rg_full,direction=\"backward\",k=2,trace = 0)\n",
    "model.BIC<-step(rg_full,direction=\"backward\",k=log(dim(datset)[1]),trace = 0)\n",
    "\n",
    "base.AIC<-step(base,direction=\"both\",scope=list(lower=~1,upper=rg_full),trace=0)\n",
    "base.BIC<-step(base,direction=\"both\",scope=list(lower=~1,upper=rg_full),trace=0,k=log(dim(datset)[1]))\n",
    "\n",
    "base.AIC.forward<-step(base,direction=\"forward\",scope=list(lower=~1,upper=rg_full),trace=0)\n",
    "base.BIC.forward<-step(base,direction=\"forward\",scope=list(lower=~1,upper=rg_full),trace=0,k=log(dim(datset)[1]))"
   ]
  },
  {
   "cell_type": "markdown",
   "metadata": {
    "slideshow": {
     "slide_type": "slide"
    }
   },
   "source": [
    "# - variable selection\n",
    "## forwards, backwards, bidirectional elimination\n",
    "\n"
   ]
  },
  {
   "cell_type": "markdown",
   "metadata": {
    "slideshow": {
     "slide_type": "subslide"
    }
   },
   "source": [
    "# Forwars, backwards, bidirectional elimination\n",
    "\n",
    "### Stepwise regression is a method of fitting regression models to choose predictive variables.\n",
    "### In each step, a variable is considered for addition to or subtraction based on some prespecified criterion."
   ]
  },
  {
   "cell_type": "markdown",
   "metadata": {
    "slideshow": {
     "slide_type": "subslide"
    }
   },
   "source": [
    "# - Criterian\n",
    "## AIC, BIC\n",
    "\n",
    "### Akaike’s Information Criterion, Bayesian Information Criterion \n",
    "### BIC penalizes complex models more heavily than AIC\n"
   ]
  },
  {
   "cell_type": "markdown",
   "metadata": {
    "slideshow": {
     "slide_type": "slide"
    }
   },
   "source": [
    "# Result of preselected model.\n",
    "\n",
    "\n",
    "\n",
    "|model|    method        |           selected variables                     |Multiple $R^2$|adjusted $R^2$| RSE |\n",
    "|-----|------------------|--------------------------------------------------|--------------|--------------|-----|\n",
    "| m1  |backwards (AIC)   |AGE,ADIPOSITY,NECK,CHEST,ABDOMEN,HIP,FOREARM,WRIST|  0.7433      |0.7347        |3.916|\n",
    "| m2  |backwards (BIC)   |AGE,ADIPOSITY,CHEST,ABDOMEN,WRIST                 |  0.7354      |0.7299        |3.951|\n",
    "| m3  |bidriectional(AIC)|AGE,ABDOMEN,WEIGHT,WRIST,BICEPS                   |  0.7356      |0.7301        |3.95 |\n",
    "| m4  |bidriectional(BIC)|ABDOMEN,WEIGHT,WRIST                              |  0.7292      |0.7259        |3.981| \n"
   ]
  },
  {
   "cell_type": "markdown",
   "metadata": {
    "slideshow": {
     "slide_type": "subslide"
    }
   },
   "source": [
    "# Final model is \n",
    "### $$BODYFAT = -23.99+0.88*ABDOMEN-0.087*WEIGHT-1.28*WRIST$$ \n",
    "| variable |ABDOMEN |WRIST| WEIGHT |\n",
    "|----------|--------|-----|--------|\n",
    "|scale     |   cm   |  cm |   lbs  |                \n",
    "\n",
    "- The ABDOMEN has positive relationship with bodyfat. Every 1cm ABDOMEN increase indicate 0.88476 bodyfat increment.\n",
    "- The WEIGHT and WRIST has negative relationship with bodyfat.Every 1cm WEIGHT increase indicate -0.08678 bodyfat decrement.Every 1cm WRIST increase indicate -1.28161 bodyfat decrement\n"
   ]
  },
  {
   "cell_type": "markdown",
   "metadata": {
    "slideshow": {
     "slide_type": "subslide"
    }
   },
   "source": [
    "# Coefficient \n",
    "### The variable estimated coefficient and standard errors and p-value are showing below. They are all siginificant based on the p-value.\n",
    "\n",
    "| variable | Est.coefficient |Std. Error | P-value |\n",
    "|----------|-----------------|-----------|---------|\n",
    "|Intercept |     -23.99356   |   6.23603 | 0.000152|\n",
    "|ABDOMEN   |      0.88476    |  0.05108  |< 2e-16  |\n",
    "|WEIGHT    |      -0.08678   |   0.02234 |0.000132 |\n",
    "|WRIST     |      -1.28161   |   0.40274 | 0.001650|"
   ]
  },
  {
   "cell_type": "markdown",
   "metadata": {
    "slideshow": {
     "slide_type": "slide"
    }
   },
   "source": [
    "# - Diagnosis\n",
    "## residual plots, QQ-plot and influential points"
   ]
  },
  {
   "cell_type": "code",
   "execution_count": null,
   "metadata": {
    "slideshow": {
     "slide_type": "skip"
    }
   },
   "outputs": [],
   "source": [
    "options(repr.plot.width=8, repr.plot.height=6)\n",
    "par(mfrow = c(2,2))\n",
    "plot(base.BIC)"
   ]
  },
  {
   "cell_type": "code",
   "execution_count": null,
   "metadata": {
    "slideshow": {
     "slide_type": "subslide"
    }
   },
   "outputs": [],
   "source": [
    "![](https://pbs.twimg.com/media/DVKP6P9W0AAutF9.jpg:large)"
   ]
  },
  {
   "cell_type": "markdown",
   "metadata": {
    "slideshow": {
     "slide_type": "slide"
    }
   },
   "source": [
    "- Based on Occam's Razor principle, we chose the best model given by BIC rule, which is \n",
    "$$BODYFAT = -23.99+0.88*ABDOMEN-0.087*WEIGHT-1.28*WRIST$$.\n",
    "\n",
    "#### Possible rule of thumb\n",
    "\n",
    "> 90% of your circumsference of waist, minus 10% of weight, minus 130% of your circumsference of wrist, and minus 24.\n",
    "\n",
    "- This rule of thumb is close to our estimated model by constructing 95% confidence intervals."
   ]
  },
  {
   "cell_type": "markdown",
   "metadata": {
    "slideshow": {
     "slide_type": "subslide"
    }
   },
   "source": [
    "#### Example Usage\n",
    "For a man who weights 170lb, with abdomen circumsference of 90cm and 15cm-wrist-circumsference, his bodyfat rate will be predicted as 17.81%. There is a 95% probability that his body fat is between 0.10% and 25.67%. \n",
    "\n",
    "With rule of thumb, we get about 24.5% as the predicted bodyfat rate."
   ]
  },
  {
   "cell_type": "markdown",
   "metadata": {
    "slideshow": {
     "slide_type": "subslide"
    }
   },
   "source": [
    "#### Inference about relationship\n",
    "- All these three variables are significantly(at level of $\\alpha = 0.05$) associated with bodyfat.\n",
    "- They can explain over `70%` of variation in BODYFAT. \n",
    "- 1cm increase in abdomen circumsference will cause **0.9% increase** in bodyfat rate.\n",
    "- 1cm increase in wrist circumsference will cause **1.3% decrease** in bodyfat rate.\n",
    "- 1lb increase in weight will cause **0.1% decrease** in bodyfat rate. "
   ]
  },
  {
   "cell_type": "markdown",
   "metadata": {
    "slideshow": {
     "slide_type": "subslide"
    }
   },
   "source": [
    "#### Strength\n",
    "\n",
    "Although it has some drawbacks, we think multivariable linear regression model is a reasonable model for this dataset.\n",
    "\n",
    "1.**Linearity assumption** is reasonable based on previous scatter plots.\n",
    "\n",
    "2.**Normality assumption** about errors is reasonable based on QQ plot, we showed above.\n",
    "\n",
    "3.**Constant variance assumption** is reasonable because residual plots doesn't have an obvious shape.\n",
    "\n",
    "4.**R-square** is larger than 0.7 and there're only 3 indepent variables in the model. This means this model refines most of information in the data and has a very simple form.\n",
    "\n",
    "5.Multivariable linear regression provides **unbiased** estimators of coefficients."
   ]
  },
  {
   "cell_type": "markdown",
   "metadata": {
    "slideshow": {
     "slide_type": "subslide"
    }
   },
   "source": [
    "#### Weakness : Multicollinearity\n",
    "\n",
    "Accuracy of estimator of standard error **&darr;**\n",
    "\n",
    "credibility of t-test **&darr;**\n",
    "\n",
    "width of confidence interval **&uarr;**\n",
    "\n",
    "\n",
    "##### measurement of multicollinearity :  Variance Inflation Factor (VIF)\n",
    "\n",
    "|ABDOMEN | WEIGHT | WRITST |\n",
    "|--------|--------|--------|\n",
    "|2.045887|2.370198|1.448709|"
   ]
  },
  {
   "cell_type": "markdown",
   "metadata": {
    "slideshow": {
     "slide_type": "subslide"
    }
   },
   "source": [
    "#### Overall, our model provides a very simple way of predicting the body fat % based on weight, circumsference of waist and circumsference of wrist. However, because of its simplicity, our predictions aren't very precise because of multicollinearity. "
   ]
  },
  {
   "cell_type": "markdown",
   "metadata": {
    "slideshow": {
     "slide_type": "slide"
    }
   },
   "source": [
    "## Reference\n",
    "\n",
    "Siri, W.E. (1956), \"Gross composition of the body\", in _Advances in  Biological and Medical Physics_, vol. IV, edited by J.H. Lawrence and C.A. Tobias, Academic Press, Inc., New York.\n",
    "\n",
    "WHO :: *Global Database on Body Mass Index*, Retrieved February 3, 2018, from http://apps.who.int/bmi/index.jsp?introPage=intro_3.html"
   ]
  }
 ],
 "metadata": {
  "celltoolbar": "Slideshow",
  "kernelspec": {
   "display_name": "R",
   "language": "R",
   "name": "ir"
  },
  "language_info": {
   "codemirror_mode": "r",
   "file_extension": ".r",
   "mimetype": "text/x-r-source",
   "name": "R",
   "pygments_lexer": "r",
   "version": "3.4.2"
  }
 },
 "nbformat": 4,
 "nbformat_minor": 2
}
