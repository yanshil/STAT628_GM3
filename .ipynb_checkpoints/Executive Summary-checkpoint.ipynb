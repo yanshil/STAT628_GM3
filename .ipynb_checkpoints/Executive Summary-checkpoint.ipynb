{
 "cells": [
  {
   "cell_type": "markdown",
   "metadata": {},
   "source": [
    "# Body Fat - Rule of Thumb\n",
    "## Group Member: Yanshi Luo, Wang Lan, Peijin Li"
   ]
  },
  {
   "cell_type": "markdown",
   "metadata": {},
   "source": [
    "\n",
    "The data set contains 17 measurements from 252 observations. \n",
    "\n",
    "In this report, our goal is to get a clear and robust equation to estimate body fat.\n",
    "\n",
    "\n",
    "## Overall Finding\n",
    "\n",
    "\n",
    "$$Y = 2* X + 1111$$\n",
    "where $x$ is ... and $y$ is ...\n",
    "\n",
    "\n",
    "## Data Cleaning\n"
   ]
  },
  {
   "cell_type": "code",
   "execution_count": 4,
   "metadata": {},
   "outputs": [],
   "source": [
    "BodyFat <- read.csv(\"./data/BodyFat.csv\"); attach(BodyFat)"
   ]
  },
  {
   "cell_type": "markdown",
   "metadata": {},
   "source": [
    "\n",
    "We will build a linear model to get the numerical result for the body fat estimation. \n",
    "\n",
    "Thus the outcome is `BODYFAT` (If not valid, can be approximately translated from `DENSITY`)\n",
    "\n",
    "### Invalid observation, Outlier and Influential Points"
   ]
  },
  {
   "cell_type": "code",
   "execution_count": 5,
   "metadata": {},
   "outputs": [
    {
     "data": {
      "text/plain": [
       "   Min. 1st Qu.  Median    Mean 3rd Qu.    Max. \n",
       "   0.00   12.80   19.00   18.94   24.60   45.10 "
      ]
     },
     "metadata": {},
     "output_type": "display_data"
    }
   ],
   "source": [
    "options(repr.plot.width=8, repr.plot.height=4) # Adjust the fig size\n",
    "# plot(sort(BODYFAT),xlab = \"\", ylab = \"Body Fat\")\n",
    "summary(BODYFAT)"
   ]
  },
  {
   "cell_type": "markdown",
   "metadata": {},
   "source": [
    "By analysising the `BODYFAT` variable, we can see that the `ID=182` and `ID=216` observations have extreme values of body fat, seperately 0 and 45.1.\n",
    "\n",
    "We consider that these two value is not valid and try to transform the second-class y `DENSITY` to `BODYFAT`  with Siri's equation <cite data-cite=\"siri1956gross\">(Siri, 1956)</cite>  $B= 495/D - 450$ and get -3.61 and 47.49 seperately, which are still not in a normal range of body fat. Thus we **delete** these two observations from the data set.\n",
    "\n",
    "<!--bibtex\n",
    "\n",
    "@article{siri1956gross,\n",
    "  title={The gross composition of the body},\n",
    "  author={Siri, William E and others},\n",
    "  journal={Adv Biol Med Phys},\n",
    "  volume={4},\n",
    "  number={239-279},\n",
    "  pages={513}\n",
    "}\n",
    "-->"
   ]
  },
  {
   "cell_type": "code",
   "execution_count": 6,
   "metadata": {},
   "outputs": [
    {
     "data": {
      "image/png": "[encoded data removed]",
      "text/plain": [
       "Plot with title “”"
      ]
     },
     "metadata": {},
     "output_type": "display_data"
    }
   ],
   "source": [
    "fit <- lm(BODYFAT ~ .-IDNO-DENSITY, data = BodyFat)\n",
    "par(mfrow=c(1,2))\n",
    "plot(fit, which=4) ## Cook's distance\n",
    "BMI <-  WEIGHT * 0.453592 / (HEIGHT*2.54*0.01)^2\n",
    "plot(BMI); abline(v = 42, lty = 2); text(42,150,labels = \"42\",cex = 0.8)"
   ]
  },
  {
   "cell_type": "markdown",
   "metadata": {},
   "source": [
    "By analysing the Cook's distance of the linear model build from `lm(BODYFAT ~ .)`(all possible $X$ dispite of `ID` and `DENSITY`), we look into details of the outlier candidates with ID 42, 39 and 86.\n",
    "\n",
    "Observation with `ID=42` is weighted 205 lb and 29.5 in tall. When we calculate their BMI, we can see that this observation is very abnormal, so we consider this observation as an invalid record and delete it from the model.\n",
    "\n",
    "Obs. 39 is a very fat guy with most of his record as the maximum one in the data and Obs. 86 looks normal.\n",
    "\n",
    "For other variables with extreme values, we also do some explaratory analysis.The IDs of these observations are listed below. They will be checked in the following sections.\n",
    "\n",
    "| ID  | Abnormal                                             | Action |\n",
    "|-----|------------------------------------------------------|--------|\n",
    "| 182 | BodyFat = 0 (failed to be recalculated from Density) | Delete |\n",
    "| 42  | BMI = 165 (Very Extreme BMI)                         | Delete |\n",
    "| 39  | Weight = 363.15 (Extreme Fat)                        | Check  |\n",
    "| 79  | Age = 81 (Extreme Old)                               | Check  |\n"
   ]
  },
  {
   "cell_type": "markdown",
   "metadata": {},
   "source": [
    "## Reference\n",
    "\n",
    "Siri, W.E. (1956), \"Gross composition of the body\", in _Advances in  Biological and Medical Physics_, vol. IV, edited by J.H. Lawrence and C.A. Tobias, Academic Press, Inc., New York."
   ]
  },
  {
   "cell_type": "code",
   "execution_count": null,
   "metadata": {},
   "outputs": [],
   "source": []
  }
 ],
 "metadata": {
  "kernelspec": {
   "display_name": "R",
   "language": "R",
   "name": "ir"
  },
  "language_info": {
   "codemirror_mode": "r",
   "file_extension": ".r",
   "mimetype": "text/x-r-source",
   "name": "R",
   "pygments_lexer": "r",
   "version": "3.4.2"
  }
 },
 "nbformat": 4,
 "nbformat_minor": 2
}
