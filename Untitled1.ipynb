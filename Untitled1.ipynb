{
 "cells": [
  {
   "cell_type": "markdown",
   "metadata": {},
   "source": [
    "|model|    method     |                    variables                     |Multiple $R^2$|adjusted $R^2$| RSE |\n",
    "|-----|---------------|--------------------------------------------------|--------------|--------------|-----|\n",
    "| m1  |backwards (AIC)|AGE,ADIPOSITY,NECK,CHEST,ABDOMEN,HIP,FOREARM,WRIST|  0.7433      |0.7347        |3.916|\n",
    "| m2  |backwards (BIC)|AGE,ADIPOSITY,CHEST,ABDOMEN,WRIST                 |  0.7354      |0.7299        |3.951|\n",
    "| m3  |stepwise  (AIC)|AGE,ABDOMEN,WEIGHT,WRIST,BICEPS                   |  0.7356      |0.7301        |3.95 |\n",
    "| m4  |stepwise  (BIC)|ABDOMEN,WEIGHT,WRIST                              |  0.7292      |0.7259        |3.981| \n",
    "\n",
    "From the table we can recognize,although the m4 has minimum multiple $R^2$ and adjusted $R^2$, and has highest RSE,m4 has the simplest form and minimum variable number.According the Occam Razor priciple, we choose m4 as our final model format.\n",
    "The final model format is $$BODYFAT = -23.99+0.88*ABDOMEN-0.087*WEIGHT-1.28*WRIST$$\n",
    "\n",
    "| variable | Estimate |Std. Error | P-value |\n",
    "|----------|----------|-----------|---------|\n",
    "|Intercept | -23.99356|   6.23603 | 0.000152|\n",
    "|ABDOMEN   |  0.88476 |  0.05108  |< 2e-16  |\n",
    "|WEIGHT    |  -0.08678|   0.02234 |0.000132 |\n",
    "|WRIST     |  -1.28161|   0.40274 | 0.001650|"
   ]
  },
  {
   "cell_type": "code",
   "execution_count": null,
   "metadata": {},
   "outputs": [],
   "source": []
  },
  {
   "cell_type": "code",
   "execution_count": null,
   "metadata": {},
   "outputs": [],
   "source": []
  }
 ],
 "metadata": {
  "celltoolbar": "Slideshow",
  "kernelspec": {
   "display_name": "R",
   "language": "R",
   "name": "ir"
  },
  "language_info": {
   "codemirror_mode": "r",
   "file_extension": ".r",
   "mimetype": "text/x-r-source",
   "name": "R",
   "pygments_lexer": "r",
   "version": "3.4.2"
  }
 },
 "nbformat": 4,
 "nbformat_minor": 2
}
